{
 "cells": [
  {
   "cell_type": "code",
   "execution_count": 1,
   "metadata": {},
   "outputs": [],
   "source": [
    "import numpy as np\n",
    "import matplotlib.pyplot as plt\n",
    "import seaborn as sns\n",
    "import pandas as pd"
   ]
  },
  {
   "cell_type": "code",
   "execution_count": 10,
   "metadata": {},
   "outputs": [],
   "source": [
    "tree=pd.read_csv('MPIbintree_2thin.csv')\n",
    "chain=pd.read_csv('MPIchain_2thin.csv')\n",
    "flat=pd.read_csv('MPIflat_2thin.csv')\n",
    "\n",
    "#considero solo i dati per processes=48\n",
    "tree=tree[tree['Processes']==48]\n",
    "chain=chain[chain['Processes']==48]\n",
    "flat=flat[flat['Processes']==48]\n",
    "\n",
    "\n",
    "#creo un nuovo dataset con size sulla prima colonna tree sulla seconda chain sulla terza e flat sulla quarta\n",
    "data = pd.DataFrame({'Size':tree['Size'],'tree':tree['Latency'],'chain':chain['Latency'],'flat':flat['Latency']})\n",
    "#salvo in un file csv\n",
    "data.to_csv('strong_scaling_MPI_2_thin.csv',index=False)"
   ]
  },
  {
   "cell_type": "code",
   "execution_count": 11,
   "metadata": {},
   "outputs": [],
   "source": [
    "tree=pd.read_csv('MPIbintree_2thin.csv')\n",
    "chain=pd.read_csv('MPIchain_2thin.csv')\n",
    "flat=pd.read_csv('MPIflat_2thin.csv')\n",
    "\n",
    "#filtro per size=1024\n",
    "tree=tree[tree['Size']==1024]\n",
    "chain=chain[chain['Size']==1024]\n",
    "flat=flat[flat['Size']==1024]\n",
    "\n",
    "#creo un nuovo dataset con processes sulla prima colonna tree sulla seconda chain sulla terza e flat sulla quarta\n",
    "data = pd.DataFrame({'processes':tree['Processes'],'size':tree['Size'],'tree':tree['Latency'],'chain':chain['Latency'],'flat':flat['Latency']})\n",
    "\n",
    "#salvo in un file csv\n",
    "data.to_csv('weak_scaling_MPI_2_thin.csv',index=False)"
   ]
  }
 ],
 "metadata": {
  "kernelspec": {
   "display_name": "Python 3",
   "language": "python",
   "name": "python3"
  },
  "language_info": {
   "codemirror_mode": {
    "name": "ipython",
    "version": 3
   },
   "file_extension": ".py",
   "mimetype": "text/x-python",
   "name": "python",
   "nbconvert_exporter": "python",
   "pygments_lexer": "ipython3",
   "version": "3.10.12"
  }
 },
 "nbformat": 4,
 "nbformat_minor": 2
}
