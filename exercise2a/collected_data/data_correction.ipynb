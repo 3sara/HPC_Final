{
 "cells": [
  {
   "cell_type": "code",
   "execution_count": 5,
   "metadata": {},
   "outputs": [],
   "source": [
    "import pandas as pd"
   ]
  },
  {
   "cell_type": "code",
   "execution_count": 7,
   "metadata": {},
   "outputs": [],
   "source": [
    "res=pd.read_csv('weak_scaling_MPI_2try.csv')\n",
    "#multiply the columns bintree,chain,flat by 1000\n",
    "res['bintree']=res['bintree']*1000\n",
    "res['chain']=res['chain']*1000\n",
    "res['flat']=res['flat']*1000\n",
    "res['MPI']=res['MPI']*1000\n",
    "#approssima a 3 numeri dopo la virgola\n",
    "res['bintree']=res['bintree'].round(3)\n",
    "res['chain']=res['chain'].round(3)\n",
    "res['flat']=res['flat'].round(3)\n",
    "res['MPI']=res['MPI'].round(3)\n",
    "\n",
    "\n",
    " #save in the original file\n",
    "\n",
    "res.to_csv('weak_scaling_MPI_2try.csv',index=False)\n",
    "\n"
   ]
  }
 ],
 "metadata": {
  "kernelspec": {
   "display_name": "Python 3",
   "language": "python",
   "name": "python3"
  },
  "language_info": {
   "codemirror_mode": {
    "name": "ipython",
    "version": 3
   },
   "file_extension": ".py",
   "mimetype": "text/x-python",
   "name": "python",
   "nbconvert_exporter": "python",
   "pygments_lexer": "ipython3",
   "version": "3.10.12"
  }
 },
 "nbformat": 4,
 "nbformat_minor": 2
}
